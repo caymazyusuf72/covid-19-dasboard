{
 "cells": [
  {
   "cell_type": "markdown",
   "id": "1",
   "metadata": {},
   "source": [
    "# COVID-19 Veri Keşfi ve Analizi\n",
    "\n",
    "Bu notebook, COVID-19 verilerini keşfetmek ve temel analizler yapmak için tasarlanmıştır.\n",
    "\n",
    "## 📊 İçerik\n",
    "1. **Veri Yükleme**: API'lerden veri çekme\n",
    "2. **Veri İnceleme**: Veri yapısı ve kalitesi analizi\n",
    "3. **Temel İstatistikler**: Özet istatistikler\n",
    "4. **Görselleştirmeler**: Temel grafikler\n",
    "5. **Ülke Analizleri**: Türkiye ve diğer ülkeler"
   ]
  },
  {
   "cell_type": "code",
   "execution_count": null,
   "id": "2",
   "metadata": {},
   "outputs": [],
   "source": [
    "# Gerekli kütüphaneleri import edelim\n",
    "import sys\n",
    "import os\n",
    "\n",
    "# Proje modüllerimizi import edebilmek için path ekleyelim\n",
    "project_root = os.path.abspath('..')\n",
    "sys.path.append(project_root)\n",
    "sys.path.append(os.path.join(project_root, 'src'))\n",
    "\n",
    "import pandas as pd\n",
    "import numpy as np\n",
    "import matplotlib.pyplot as plt\n",
    "import seaborn as sns\n",
    "from datetime import datetime\n",
    "import warnings\n",
    "\n",
    "warnings.filterwarnings('ignore')\n",
    "\n",
    "# Kendi modüllerimiz\n",
    "from data_processing import CovidDataLoader, calculate_derived_metrics, calculate_time_series_metrics\n",
    "from analysis import CovidAnalyzer\n",
    "from visualization import CovidVisualizer\n",
    "\n",
    "# Görselleştirme ayarları\n",
    "plt.style.use('default')\n",
    "sns.set_palette(\"husl\")\n",
    "plt.rcParams['figure.figsize'] = (12, 8)\n",
    "plt.rcParams['font.size'] = 10\n",
    "\n",
    "print(\"📦 Tüm kütüphaneler başarıyla yüklendi!\")\n",
    "print(f\"🕒 Notebook başlatma zamanı: {datetime.now().strftime('%Y-%m-%d %H:%M:%S')}\")"
   ]
  },
  {
   "cell_type": "markdown",
   "id": "3",
   "metadata": {},
   "source": [
    "## 1. 📥 Veri Yükleme\n",
    "\n",
    "COVID-19 verilerini farklı kaynaklardan yükleyeceğiz."
   ]
  },
  {
   "cell_type": "code",
   "execution_count": null,
   "id": "4",
   "metadata": {},
   "outputs": [],
   "source": [
    "# Data loader'ı başlat\n",
    "print(\"🔄 COVID-19 veri yükleme işlemi başlıyor...\")\n",
    "\n",
    "loader = CovidDataLoader()\n",
    "\n",
    "# Mevcut durum verilerini yükle (Disease.sh API)\n",
    "print(\"\\n🌍 Global mevcut durum verisi yükleniyor...\")\n",
    "snapshot_data = loader.load_disease_sh_data()\n",
    "\n",
    "if snapshot_data is not None:\n",
    "    print(f\"✅ {len(snapshot_data)} ülkenin verisi yüklendi\")\n",
    "    print(f\"📊 Sütunlar: {', '.join(snapshot_data.columns[:8])}...\")\n",
    "    \n",
    "    # Türetilmiş metrikleri hesapla\n",
    "    snapshot_data = calculate_derived_metrics(snapshot_data)\n",
    "    print(\"✅ Türetilmiş metrikler eklendi\")\nelse:\n",
    "    print(\"❌ Snapshot verisi yüklenemedi\")\n",
    "\n",
    "print(\"\\n\" + \"=\"*60)"
   ]
  },
  {
   "cell_type": "code",
   "execution_count": null,
   "id": "5",
   "metadata": {},
   "outputs": [],
   "source": [
    "# Zaman serisi verilerini yükle (Johns Hopkins)\n",
    "print(\"⏰ Zaman serisi verileri yükleniyor...\")\n",
    "\n",
    "# Confirmed cases\n",
    "print(\"\\n🔍 Confirmed cases verisi...\")\n",
    "confirmed_data = loader.load_johns_hopkins_data('confirmed')\n",
    "\n",
    "if confirmed_data is not None:\n",
    "    print(f\"✅ {len(confirmed_data)} kayıt yüklendi\")\n",
    "    print(f\"📅 Tarih aralığı: {confirmed_data['date'].min()} - {confirmed_data['date'].max()}\")\n",
    "    \n",
    "    # Zaman serisi metriklerini hesapla\n",
    "    confirmed_data = calculate_time_series_metrics(confirmed_data, 'confirmed')\n",
    "    print(\"✅ Zaman serisi metrikleri eklendi\")\nelse:\n",
    "    print(\"❌ Confirmed verisi yüklenemedi\")\n",
    "\n",
    "print(\"\\n\" + \"=\"*60)"
   ]
  },
  {
   "cell_type": "markdown",
   "id": "6",
   "metadata": {},
   "source": [
    "## 2. 🔍 Veri İnceleme\n",
    "\n",
    "Yüklediğimiz verilerin yapısını ve kalitesini inceleyelim."
   ]
  },
  {
   "cell_type": "code",
   "execution_count": null,
   "id": "7",
   "metadata": {},
   "outputs": [],
   "source": [
    "# Snapshot verisi inceleme\n",
    "if snapshot_data is not None:\n",
    "    print(\"🔍 SNAPSHOT VERİSİ ANALİZİ\")\n",
    "    print(\"=\" * 40)\n",
    "    \n",
    "    print(f\"📊 Boyut: {snapshot_data.shape}\")\n",
    "    print(f\"📋 Sütun sayısı: {len(snapshot_data.columns)}\")\n",
    "    print(f\"🌍 Ülke sayısı: {len(snapshot_data)}\")\n",
    "    \n",
    "    # Veri türleri\n",
    "    print(\"\\n📈 Veri Türleri:\")\n",
    "    print(snapshot_data.dtypes.value_counts())\n",
    "    \n",
    "    # Eksik değerler\n",
    "    print(\"\\n❓ Eksik Değerler:\")\n",
    "    missing_data = snapshot_data.isnull().sum()\n",
    "    missing_data = missing_data[missing_data > 0].sort_values(ascending=False)\n",
    "    if len(missing_data) > 0:\n",
    "        for col, count in missing_data.head(10).items():\n",
    "            print(f\"   {col}: {count} ({count/len(snapshot_data)*100:.1f}%)\")\n",
    "    else:\n",
    "        print(\"   ✅ Eksik değer yok\")\n",
    "    \n",
    "    # Temel istatistikler\n",
    "    print(\"\\n📊 Temel İstatistikler (İlk 5 sütun):\")\n",
    "    numeric_cols = snapshot_data.select_dtypes(include=[np.number]).columns[:5]\n",
    "    print(snapshot_data[numeric_cols].describe())"
   ]
  },
  {
   "cell_type": "code",
   "execution_count": null,
   "id": "8",
   "metadata": {},
   "outputs": [],
   "source": [
    "# Zaman serisi verisi inceleme\n",
    "if confirmed_data is not None:\n",
    "    print(\"\\n🔍 ZAMAN SERİSİ VERİSİ ANALİZİ\")\n",
    "    print(\"=\" * 40)\n",
    "    \n",
    "    print(f\"📊 Boyut: {confirmed_data.shape}\")\n",
    "    print(f\"🌍 Ülke sayısı: {confirmed_data['country'].nunique()}\")\n",
    "    print(f\"📅 Gün sayısı: {confirmed_data['date'].nunique()}\")\n",
    "    \n",
    "    # Tarih aralığı detayları\n",
    "    date_range = confirmed_data['date'].max() - confirmed_data['date'].min()\n",
    "    print(f\"⏱️  Toplam gün: {date_range.days}\")\n",
    "    \n",
    "    # En fazla verisi olan ülkeler\n",
    "    print(\"\\n🏆 En Fazla Veri Noktası Olan Ülkeler:\")\n",
    "    country_counts = confirmed_data['country'].value_counts().head(10)\n",
    "    for country, count in country_counts.items():\n",
    "        print(f\"   {country}: {count} gün\")\n",
    "    \n",
    "    # Son tarih verisi özeti\n",
    "    latest_date = confirmed_data['date'].max()\n",
    "    latest_data = confirmed_data[confirmed_data['date'] == latest_date]\n",
    "    print(f\"\\n📅 Son Tarih ({latest_date.strftime('%Y-%m-%d')}) Özeti:\")\n",
    "    print(f\"   Toplam Global Vaka: {latest_data['confirmed'].sum():,}\")\n",
    "    print(f\"   Ortalama Ülke Başına: {latest_data['confirmed'].mean():,.0f}\")"
   ]
  },
  {
   "cell_type": "markdown",
   "id": "9",
   "metadata": {},
   "source": [
    "## 3. 📈 Temel İstatistikler ve Global Analiz"
   ]
  },
  {
   "cell_type": "code",
   "execution_count": null,
   "id": "10",
   "metadata": {},
   "outputs": [],
   "source": [
    "# Analiz sınıfını başlat\n",
    "analyzer = CovidAnalyzer()\n",
    "\n",
    "if snapshot_data is not None:\n",
    "    # Global istatistikleri hesapla\n",
    "    print(\"🌍 GLOBAL COVID-19 İSTATİSTİKLERİ\")\n",
    "    print(\"=\" * 45)\n",
    "    \n",
    "    global_stats = analyzer.calculate_global_stats(snapshot_data)\n",
    "    \n",
    "    print(f\"🏢 Toplam Ülke Sayısı: {global_stats['total_countries']:,}\")\n",
    "    print(f\"🦠 Toplam Vaka: {global_stats['total_cases']:,}\")\n",
    "    print(f\"💀 Toplam Ölüm: {global_stats['total_deaths']:,}\")\n",
    "    print(f\"💚 Toplam İyileşen: {global_stats['total_recovered']:,}\")\n",
    "    print(f\"🟡 Toplam Aktif: {global_stats['total_active']:,}\")\n",
    "    print(f\"📊 Global CFR: {global_stats['global_cfr']:.2f}%\")\n",
    "    print(f\"📈 Global İyileşme Oranı: {global_stats['global_recovery_rate']:.2f}%\")\n",
    "    print(f\"🆕 Yeni Vakası Olan Ülke: {global_stats['countries_with_new_cases']}\")\n",
    "    print(f\"⚰️  Yeni Ölümü Olan Ülke: {global_stats['countries_with_new_deaths']}\")\n",
    "    \n",
    "    print(\"\\n\" + \"=\"*60)"
   ]
  },
  {
   "cell_type": "markdown",
   "id": "11",
   "metadata": {},
   "source": [
    "## 4. 🇹🇷 Türkiye Detaylı Analizi"
   ]
  },
  {
   "cell_type": "code",
   "execution_count": null,
   "id": "12",
   "metadata": {},
   "outputs": [],
   "source": [
    "# Türkiye verilerini detaylı incele\n",
    "if snapshot_data is not None:\n",
    "    turkey_data = snapshot_data[snapshot_data['country'] == 'Turkey']\n",
    "    \n",
    "    if not turkey_data.empty:\n",
    "        print(\"🇹🇷 TÜRKİYE COVID-19 DURUMU\")\n",
    "        print(\"=\" * 35)\n",
    "        \n",
    "        turkey = turkey_data.iloc[0]\n",
    "        \n",
    "        print(f\"📊 Toplam Vaka: {turkey.get('total_cases', 0):,}\")\n",
    "        print(f\"💀 Toplam Ölüm: {turkey.get('total_deaths', 0):,}\")\n",
    "        print(f\"💚 Toplam İyileşen: {turkey.get('total_recovered', 0):,}\")\n",
    "        print(f\"🟡 Aktif Vaka: {turkey.get('active_cases', 0):,}\")\n",
    "        print(f\"🆕 Yeni Vaka: {turkey.get('new_cases', 0):,}\")\n",
    "        print(f\"⚰️  Yeni Ölüm: {turkey.get('new_deaths', 0):,}\")\n",
    "        \n",
    "        print(f\"\\n📈 Vaka Ölüm Oranı (CFR): {turkey.get('case_fatality_rate', 0):.2f}%\")\n",
    "        print(f\"📈 İyileşme Oranı: {turkey.get('recovery_rate', 0):.2f}%\")\n",
    "        print(f\"📊 Milyon Başına Vaka: {turkey.get('cases_per_million', 0):,}\")\n",
    "        print(f\"📊 Milyon Başına Ölüm: {turkey.get('deaths_per_million', 0):,}\")\n",
    "        \n",
    "        # Şiddet indeksi hesapla\n",
    "        severity_data = analyzer.calculate_severity_index(snapshot_data)\n",
    "        turkey_severity = severity_data[severity_data['country'] == 'Turkey']\n",
    "        if not turkey_severity.empty:\n",
    "            severity_index = turkey_severity.iloc[0]['severity_index']\n",
    "            severity_category = turkey_severity.iloc[0]['severity_category']\n",
    "            print(f\"⚠️  Şiddet İndeksi: {severity_index:.1f}/100 ({severity_category})\")\n",
    "    else:\n",
    "        print(\"❌ Türkiye verisi bulunamadı\")\n",
    "    \n",
    "    print(\"\\n\" + \"=\"*60)"
   ]
  },
  {
   "cell_type": "markdown",
   "id": "13",
   "metadata": {},
   "source": [
    "## 5. 🏆 En Çok Etkilenen Ülkeler"
   ]
  },
  {
   "cell_type": "code",
   "execution_count": null,
   "id": "14",
   "metadata": {},
   "outputs": [],
   "source": [
    "# En çok etkilenen ülkeleri listele\n",
    "if snapshot_data is not None:\n",
    "    print(\"🏆 EN ÇOK ETKİLENEN ÜLKELER\")\n",
    "    print(\"=\" * 35)\n",
    "    \n",
    "    # Toplam vaka bazında\n",
    "    print(\"\\n📊 Toplam Vaka Bazında (Top 10):\")\n",
    "    top_cases = snapshot_data.nlargest(10, 'total_cases')[['country', 'total_cases', 'total_deaths', 'cases_per_million']]\n",
    "    \n",
    "    for idx, row in top_cases.iterrows():\n",
    "        print(f\"{row.name+1:2d}. {row['country']:<20} - {row['total_cases']:>12,} vaka ({row['cases_per_million']:>8,.0f}/1M)\")\n",
    "    \n",
    "    # Milyon başına vaka bazında\n",
    "    print(\"\\n📈 Milyon Başına Vaka Bazında (Top 10):\")\n",
    "    top_per_million = snapshot_data.nlargest(10, 'cases_per_million')[['country', 'total_cases', 'cases_per_million', 'population']]\n",
    "    \n",
    "    for idx, row in top_per_million.iterrows():\n",
    "        pop_millions = row.get('population', 0) / 1000000 if row.get('population', 0) > 0 else 0\n",
    "        print(f\"{row.name+1:2d}. {row['country']:<20} - {row['cases_per_million']:>8,.0f}/1M (Nüfus: {pop_millions:.1f}M)\")\n",
    "    \n",
    "    print(\"\\n\" + \"=\"*60)"
   ]
  },
  {
   "cell_type": "markdown",
   "id": "15",
   "metadata": {},
   "source": [
    "## 6. 📊 Temel Görselleştirmeler\n",
    "\n",
    "Verileri görsel olarak inceleyeceğiz."
   ]
  },
  {
   "cell_type": "code",
   "execution_count": null,
   "id": "16",
   "metadata": {},
   "outputs": [],
   "source": [
    "# Görselleştirme sınıfını başlat\n",
    "visualizer = CovidVisualizer()\n",
    "\n",
    "if snapshot_data is not None:\n",
    "    print(\"📊 Görselleştirmeler oluşturuluyor...\")\n",
    "    \n",
    "    # 1. En çok etkilenen ülkeler (toplam vaka)\n",
    "    print(\"\\n📈 Top 15 ülke - Toplam vaka grafiği oluşturuluyor...\")\n",
    "    fig1 = visualizer.plot_top_countries(snapshot_data, 'total_cases', top_n=15)\n",
    "    if fig1:\n",
    "        plt.tight_layout()\n",
    "        plt.show()\n",
    "        plt.close(fig1)\n",
    "    \n",
    "    print(\"✅ İlk grafik tamamlandı\")"
   ]
  },
  {
   "cell_type": "code",
   "execution_count": null,
   "id": "17",
   "metadata": {},
   "outputs": [],
   "source": [
    "# Türkiye detay grafiği\n",
    "if snapshot_data is not None:\n",
    "    print(\"🇹🇷 Türkiye özet grafiği oluşturuluyor...\")\n",
    "    fig2 = visualizer.plot_country_summary(snapshot_data, 'Turkey')\n",
    "    if fig2:\n",
    "        plt.tight_layout()\n",
    "        plt.show()\n",
    "        plt.close(fig2)\n",
    "    \n",
    "    print(\"✅ Türkiye grafiği tamamlandı\")"
   ]
  },
  {
   "cell_type": "code",
   "execution_count": null,
   "id": "18",
   "metadata": {},
   "outputs": [],
   "source": [
    "# Korelasyon analizi\n",
    "if snapshot_data is not None:\n",
    "    print(\"🔍 Korelasyon matrisi oluşturuluyor...\")\n",
    "    fig3 = visualizer.plot_correlation_matrix(snapshot_data)\n",
    "    if fig3:\n",
    "        plt.tight_layout()\n",
    "        plt.show()\n",
    "        plt.close(fig3)\n",
    "    \n",
    "    print(\"✅ Korelasyon matrisi tamamlandı\")"
   ]
  },
  {
   "cell_type": "markdown",
   "id": "19",
   "metadata": {},
   "source": [
    "## 7. ⏰ Zaman Serisi Analizi"
   ]
  },
  {
   "cell_type": "code",
   "execution_count": null,
   "id": "20",
   "metadata": {},
   "outputs": [],
   "source": [
    "# Zaman serisi görselleştirme\n",
    "if confirmed_data is not None:\n",
    "    print(\"⏰ Zaman serisi analizi başlıyor...\")\n",
    "    \n",
    "    # Türkiye, ABD, Almanya karşılaştırması\n",
    "    countries_to_compare = ['Turkey', 'United States', 'Germany', 'Italy', 'Spain']\n",
    "    \n",
    "    print(f\"\\n📊 {len(countries_to_compare)} ülke karşılaştırması grafik oluşturuluyor...\")\n",
    "    fig4 = visualizer.plot_time_series(confirmed_data, countries_to_compare, 'confirmed')\n",
    "    if fig4:\n",
    "        plt.tight_layout()\n",
    "        plt.show()\n",
    "        plt.close(fig4)\n",
    "    \n",
    "    print(\"✅ Zaman serisi grafiği tamamlandı\")"
   ]
  },
  {
   "cell_type": "markdown",
   "id": "21",
   "metadata": {},
   "source": [
    "## 8. 📋 Ülke Karşılaştırmaları"
   ]
  },
  {
   "cell_type": "code",
   "execution_count": null,
   "id": "22",
   "metadata": {},
   "outputs": [],
   "source": [
    "# Ülke karşılaştırması tablosu\n",
    "if snapshot_data is not None:\n",
    "    print(\"🏆 ÜLKE KARŞILAŞTIRMASI\")\n",
    "    print(\"=\" * 25)\n",
    "    \n",
    "    # Karşılaştırılacak ülkeler\n",
    "    comparison_countries = ['Turkey', 'Germany', 'United States', 'Italy', 'Spain', 'France']\n",
    "    comparison_metrics = ['total_cases', 'total_deaths', 'cases_per_million', 'deaths_per_million']\n",
    "    \n",
    "    comparison_df = analyzer.compare_countries(snapshot_data, comparison_countries, comparison_metrics)\n",
    "    \n",
    "    if not comparison_df.empty:\n",
    "        print(\"\\n📊 Karşılaştırma Tablosu:\")\n",
    "        print(\"-\" * 100)\n",
    "        \n",
    "        # Güzel formatlı tablo\n",
    "        for idx, row in comparison_df.iterrows():\n",
    "            country = row['country']\n",
    "            cases = f\"{row.get('total_cases', 0):>12,}\"\n",
    "            deaths = f\"{row.get('total_deaths', 0):>10,}\"\n",
    "            cases_pm = f\"{row.get('cases_per_million', 0):>10,.0f}\"\n",
    "            deaths_pm = f\"{row.get('deaths_per_million', 0):>10,.0f}\"\n",
    "            \n",
    "            print(f\"{country:<15} | {cases} vaka | {deaths} ölüm | {cases_pm}/1M | {deaths_pm}/1M\")\n",
    "        \n",
    "        print(\"-\" * 100)\n",
    "        \n",
    "        # Sıralama bilgileri\n",
    "        print(\"\\n🏅 Sıralamalar (Toplam Vaka):\")\n",
    "        for idx, row in comparison_df.sort_values('total_cases', ascending=False).iterrows():\n",
    "            rank = int(row.get('total_cases_rank', 0))\n",
    "            print(f\"   {rank}. {row['country']}: {row.get('total_cases', 0):,} vaka\")\n",
    "    \n",
    "    print(\"\\n\" + \"=\"*60)"
   ]
  },
  {
   "cell_type": "markdown",
   "id": "23",
   "metadata": {},
   "source": [
    "## 9. 📝 Özet ve Sonuçlar"
   ]
  },
  {
   "cell_type": "code",
   "execution_count": null,
   "id": "24",
   "metadata": {},
   "outputs": [],
   "source": [
    "# Genel özet\n",
    "print(\"📝 VERİ KEŞFİ SONUÇLARI\")\n",
    "print(\"=\" * 30)\n",
    "\n",
    "if snapshot_data is not None:\n",
    "    print(f\"✅ Başarıyla {len(snapshot_data)} ülkenin verisi analiz edildi\")\n",
    "    \n",
    "    # Veri kalitesi özeti\n",
    "    total_cases = snapshot_data['total_cases'].sum()\n",
    "    total_deaths = snapshot_data['total_deaths'].sum()\n",
    "    countries_with_data = len(snapshot_data[snapshot_data['total_cases'] > 0])\n",
    "    \n",
    "    print(f\"📊 Global toplam vaka: {total_cases:,}\")\n",
    "    print(f\"💀 Global toplam ölüm: {total_deaths:,}\")\n",
    "    print(f\"🌍 Veri bulunan ülke: {countries_with_data}\")\n",
    "    \n",
    "    if confirmed_data is not None:\n",
    "        print(f\"📅 Zaman serisi veri noktası: {len(confirmed_data):,}\")\n",
    "        date_range = confirmed_data['date'].max() - confirmed_data['date'].min()\n",
    "        print(f\"⏱️  Zaman aralığı: {date_range.days} gün\")\n",
    "\nprint(\"\\n🎯 Sonraki Adımlar:\")\nprint(\"   1. Daha detaylı istatistiksel analizler\")\nprint(\"   2. Makine öğrenmesi modelleri\")\nprint(\"   3. İnteraktif dashboard geliştirme\")\nprint(\"   4. Tahmin modellerinin oluşturulması\")\n\nprint(f\"\\n🕒 Analiz tamamlanma zamanı: {datetime.now().strftime('%Y-%m-%d %H:%M:%S')}\")\nprint(\"🎉 Veri keşfi başarıyla tamamlandı!\")"
   ]
  }
 ],
 "metadata": {
  "kernelspec": {
   "display_name": "Python 3",
   "language": "python",
   "name": "python3"
  },
  "language_info": {
   "codemirror_mode": {
    "name": "ipython",
    "version": 3
   },
   "file_extension": ".py",
   "mimetype": "text/x-python",
   "name": "python",
   "nbconvert_exporter": "python",
   "pygments_lexer": "ipython3",
   "version": "3.13.0"
  }
 },
 "nbformat": 4,
 "nbformat_minor": 5
}